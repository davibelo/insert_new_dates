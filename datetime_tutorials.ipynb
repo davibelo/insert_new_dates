{
 "cells": [
  {
   "cell_type": "code",
   "execution_count": 1,
   "metadata": {},
   "outputs": [
    {
     "name": "stdout",
     "output_type": "stream",
     "text": [
      "2020-02-29 23:38:04.955778\n",
      "2020-02-29 20:38:04.955779\n"
     ]
    }
   ],
   "source": [
    "from datetime import *\n",
    "print(datetime.utcnow())\n",
    "print(datetime.today())"
   ]
  },
  {
   "cell_type": "code",
   "execution_count": 21,
   "metadata": {},
   "outputs": [
    {
     "name": "stdout",
     "output_type": "stream",
     "text": [
      "\n",
      " <class 'datetime.datetime'>\n",
      "2018-09-19 13:55:26\n",
      "\n",
      " <class 'datetime.datetime'>\n",
      "2018-09-19 13:55:26\n",
      "\n",
      " <class 'str'>\n",
      "09/19/2018 13:55:26\n"
     ]
    }
   ],
   "source": [
    "# tutorial in https://www.dataquest.io/blog/python-datetime-tutorial/\n",
    "\n",
    "# convert string to datetime example 1, year with 2 digits\n",
    "str1 = '09/19/18 13:55:26'\n",
    "dt_obj1 = datetime.strptime(str1, '%m/%d/%y %H:%M:%S')\n",
    "\n",
    "print('\\n',type(dt_obj1))\n",
    "print(dt_obj1)  \n",
    "\n",
    "# convert string to datetime example 2, year with 4 digits\n",
    "str2 = '09/19/2018 13:55:26'\n",
    "dt_obj2 = datetime.strptime(str2, '%m/%d/%Y %H:%M:%S')\n",
    "\n",
    "print('\\n',type(dt_obj2))\n",
    "print(dt_obj2)\n",
    "\n",
    "# convert datetime to string\n",
    "str3 = dt_obj2.strftime('%m/%d/%Y %H:%M:%S')\n",
    "print('\\n',type(str3))\n",
    "print(str3)"
   ]
  },
  {
   "cell_type": "code",
   "execution_count": 22,
   "metadata": {},
   "outputs": [
    {
     "name": "stdout",
     "output_type": "stream",
     "text": [
      "dt_object: 2019-10-25 11:36:32.827300\n",
      "type(dt_object):  <class 'datetime.datetime'>\n"
     ]
    }
   ],
   "source": [
    "# convert timestamp to datetime object\n",
    "timestamp = 1572014192.8273\n",
    "\n",
    "#convert timestamp to datetime object\n",
    "dt_object = datetime.fromtimestamp(timestamp)\n",
    "\n",
    "print(\"dt_object:\", dt_object)\n",
    "print(\"type(dt_object): \", type(dt_object))"
   ]
  },
  {
   "cell_type": "code",
   "execution_count": 23,
   "metadata": {},
   "outputs": [
    {
     "name": "stdout",
     "output_type": "stream",
     "text": [
      "Date and Time : 2020-02-29 20:50:29.504323\n",
      "Timestamp: 1583020229.504323\n"
     ]
    }
   ],
   "source": [
    "# convert datetime object to timestamp\n",
    "# get current date\n",
    "now = datetime.now()\n",
    "\n",
    "# convert current date into timestamp\n",
    "timestamp = datetime.timestamp(now)\n",
    "\n",
    "print(\"Date and Time :\", now)\n",
    "print(\"Timestamp:\", timestamp)"
   ]
  },
  {
   "cell_type": "code",
   "execution_count": 27,
   "metadata": {},
   "outputs": [
    {
     "name": "stdout",
     "output_type": "stream",
     "text": [
      "\n",
      " [datetime.datetime(2020, 1, 3, 17, 0), datetime.datetime(2020, 1, 4, 9, 0), datetime.datetime(2020, 1, 4, 17, 0), datetime.datetime(2020, 1, 5, 10, 0), datetime.datetime(2020, 1, 5, 13, 0), datetime.datetime(2020, 1, 5, 17, 0), datetime.datetime(2020, 1, 6, 17, 0), datetime.datetime(2020, 1, 7, 17, 0)]\n",
      "\n",
      " [1578081600.0, 1578139200.0, 1578168000.0, 1578229200.0, 1578240000.0, 1578254400.0, 1578340800.0, 1578427200.0]\n",
      "\n",
      " [1578076200.0, 1578076800.0, 1578077400.0, 1578078000.0, 1578078600.0, 1578079200.0, 1578079800.0, 1578080400.0, 1578081000.0, 1578081600.0, 1578133800.0, 1578134400.0, 1578135000.0, 1578135600.0, 1578136200.0, 1578136800.0, 1578137400.0, 1578138000.0, 1578138600.0, 1578139200.0, 1578162600.0, 1578163200.0, 1578163800.0, 1578164400.0, 1578165000.0, 1578165600.0, 1578166200.0, 1578166800.0, 1578167400.0, 1578168000.0, 1578223800.0, 1578224400.0, 1578225000.0, 1578225600.0, 1578226200.0, 1578226800.0, 1578227400.0, 1578228000.0, 1578228600.0, 1578229200.0, 1578234600.0, 1578235200.0, 1578235800.0, 1578236400.0, 1578237000.0, 1578237600.0, 1578238200.0, 1578238800.0, 1578239400.0, 1578240000.0, 1578249000.0, 1578249600.0, 1578250200.0, 1578250800.0, 1578251400.0, 1578252000.0, 1578252600.0, 1578253200.0, 1578253800.0, 1578254400.0, 1578335400.0, 1578336000.0, 1578336600.0, 1578337200.0, 1578337800.0, 1578338400.0, 1578339000.0, 1578339600.0, 1578340200.0, 1578340800.0, 1578421800.0, 1578422400.0, 1578423000.0, 1578423600.0, 1578424200.0, 1578424800.0, 1578425400.0, 1578426000.0, 1578426600.0, 1578427200.0]\n",
      "\n",
      " [datetime.datetime(2020, 1, 3, 15, 30), datetime.datetime(2020, 1, 3, 15, 40), datetime.datetime(2020, 1, 3, 15, 50), datetime.datetime(2020, 1, 3, 16, 0), datetime.datetime(2020, 1, 3, 16, 10), datetime.datetime(2020, 1, 3, 16, 20), datetime.datetime(2020, 1, 3, 16, 30), datetime.datetime(2020, 1, 3, 16, 40), datetime.datetime(2020, 1, 3, 16, 50), datetime.datetime(2020, 1, 3, 17, 0), datetime.datetime(2020, 1, 4, 7, 30), datetime.datetime(2020, 1, 4, 7, 40), datetime.datetime(2020, 1, 4, 7, 50), datetime.datetime(2020, 1, 4, 8, 0), datetime.datetime(2020, 1, 4, 8, 10), datetime.datetime(2020, 1, 4, 8, 20), datetime.datetime(2020, 1, 4, 8, 30), datetime.datetime(2020, 1, 4, 8, 40), datetime.datetime(2020, 1, 4, 8, 50), datetime.datetime(2020, 1, 4, 9, 0), datetime.datetime(2020, 1, 4, 15, 30), datetime.datetime(2020, 1, 4, 15, 40), datetime.datetime(2020, 1, 4, 15, 50), datetime.datetime(2020, 1, 4, 16, 0), datetime.datetime(2020, 1, 4, 16, 10), datetime.datetime(2020, 1, 4, 16, 20), datetime.datetime(2020, 1, 4, 16, 30), datetime.datetime(2020, 1, 4, 16, 40), datetime.datetime(2020, 1, 4, 16, 50), datetime.datetime(2020, 1, 4, 17, 0), datetime.datetime(2020, 1, 5, 8, 30), datetime.datetime(2020, 1, 5, 8, 40), datetime.datetime(2020, 1, 5, 8, 50), datetime.datetime(2020, 1, 5, 9, 0), datetime.datetime(2020, 1, 5, 9, 10), datetime.datetime(2020, 1, 5, 9, 20), datetime.datetime(2020, 1, 5, 9, 30), datetime.datetime(2020, 1, 5, 9, 40), datetime.datetime(2020, 1, 5, 9, 50), datetime.datetime(2020, 1, 5, 10, 0), datetime.datetime(2020, 1, 5, 11, 30), datetime.datetime(2020, 1, 5, 11, 40), datetime.datetime(2020, 1, 5, 11, 50), datetime.datetime(2020, 1, 5, 12, 0), datetime.datetime(2020, 1, 5, 12, 10), datetime.datetime(2020, 1, 5, 12, 20), datetime.datetime(2020, 1, 5, 12, 30), datetime.datetime(2020, 1, 5, 12, 40), datetime.datetime(2020, 1, 5, 12, 50), datetime.datetime(2020, 1, 5, 13, 0), datetime.datetime(2020, 1, 5, 15, 30), datetime.datetime(2020, 1, 5, 15, 40), datetime.datetime(2020, 1, 5, 15, 50), datetime.datetime(2020, 1, 5, 16, 0), datetime.datetime(2020, 1, 5, 16, 10), datetime.datetime(2020, 1, 5, 16, 20), datetime.datetime(2020, 1, 5, 16, 30), datetime.datetime(2020, 1, 5, 16, 40), datetime.datetime(2020, 1, 5, 16, 50), datetime.datetime(2020, 1, 5, 17, 0), datetime.datetime(2020, 1, 6, 15, 30), datetime.datetime(2020, 1, 6, 15, 40), datetime.datetime(2020, 1, 6, 15, 50), datetime.datetime(2020, 1, 6, 16, 0), datetime.datetime(2020, 1, 6, 16, 10), datetime.datetime(2020, 1, 6, 16, 20), datetime.datetime(2020, 1, 6, 16, 30), datetime.datetime(2020, 1, 6, 16, 40), datetime.datetime(2020, 1, 6, 16, 50), datetime.datetime(2020, 1, 6, 17, 0), datetime.datetime(2020, 1, 7, 15, 30), datetime.datetime(2020, 1, 7, 15, 40), datetime.datetime(2020, 1, 7, 15, 50), datetime.datetime(2020, 1, 7, 16, 0), datetime.datetime(2020, 1, 7, 16, 10), datetime.datetime(2020, 1, 7, 16, 20), datetime.datetime(2020, 1, 7, 16, 30), datetime.datetime(2020, 1, 7, 16, 40), datetime.datetime(2020, 1, 7, 16, 50), datetime.datetime(2020, 1, 7, 17, 0)]\n",
      "\n",
      " ['03/01/20 15:30', '03/01/20 15:40', '03/01/20 15:50', '03/01/20 16:00', '03/01/20 16:10', '03/01/20 16:20', '03/01/20 16:30', '03/01/20 16:40', '03/01/20 16:50', '03/01/20 17:00', '04/01/20 07:30', '04/01/20 07:40', '04/01/20 07:50', '04/01/20 08:00', '04/01/20 08:10', '04/01/20 08:20', '04/01/20 08:30', '04/01/20 08:40', '04/01/20 08:50', '04/01/20 09:00', '04/01/20 15:30', '04/01/20 15:40', '04/01/20 15:50', '04/01/20 16:00', '04/01/20 16:10', '04/01/20 16:20', '04/01/20 16:30', '04/01/20 16:40', '04/01/20 16:50', '04/01/20 17:00', '05/01/20 08:30', '05/01/20 08:40', '05/01/20 08:50', '05/01/20 09:00', '05/01/20 09:10', '05/01/20 09:20', '05/01/20 09:30', '05/01/20 09:40', '05/01/20 09:50', '05/01/20 10:00', '05/01/20 11:30', '05/01/20 11:40', '05/01/20 11:50', '05/01/20 12:00', '05/01/20 12:10', '05/01/20 12:20', '05/01/20 12:30', '05/01/20 12:40', '05/01/20 12:50', '05/01/20 13:00', '05/01/20 15:30', '05/01/20 15:40', '05/01/20 15:50', '05/01/20 16:00', '05/01/20 16:10', '05/01/20 16:20', '05/01/20 16:30', '05/01/20 16:40', '05/01/20 16:50', '05/01/20 17:00', '06/01/20 15:30', '06/01/20 15:40', '06/01/20 15:50', '06/01/20 16:00', '06/01/20 16:10', '06/01/20 16:20', '06/01/20 16:30', '06/01/20 16:40', '06/01/20 16:50', '06/01/20 17:00', '07/01/20 15:30', '07/01/20 15:40', '07/01/20 15:50', '07/01/20 16:00', '07/01/20 16:10', '07/01/20 16:20', '07/01/20 16:30', '07/01/20 16:40', '07/01/20 16:50', '07/01/20 17:00']\n"
     ]
    }
   ],
   "source": [
    "# code to insert new datetime before given datetimes, according to some criteria\n",
    "\n",
    "time_period = 10*60 # time in seconds to get new timestamps before original timestamp\n",
    "num_time_periods = 10 # number of new timestamps to generate\n",
    "\n",
    "dates = ['03/01/2020 17:00', \n",
    "         '04/01/2020 9:00',\n",
    "         '04/01/2020 17:00', \n",
    "         '05/01/2020 10:00',\n",
    "         '05/01/2020 13:00',\n",
    "         '05/01/2020 17:00',\n",
    "         '06/01/2020 17:00',\n",
    "         '07/01/2020 17:00']\n",
    "\n",
    "# converting to datetimes\n",
    "datetimes = []\n",
    "for i in range(len(dates)):\n",
    "    datetimes.append(datetime.strptime(dates[i], '%d/%m/%Y %H:%M'))\n",
    "\n",
    "print('\\n',datetimes)\n",
    "\n",
    "# converting to timestamps\n",
    "timestamps = []\n",
    "for i in range(len(datetimes)):\n",
    "    timestamps.append(datetime.timestamp(datetimes[i]))\n",
    "\n",
    "print('\\n',timestamps)\n",
    "\n",
    "new_timestamps = []\n",
    "for i in range(len(timestamps)):\n",
    "    for n in range(num_time_periods):\n",
    "        new_timestamps.append(timestamps[i]-n*time_period)\n",
    "\n",
    "new_timestamps.sort()\n",
    "print('\\n',new_timestamps)\n",
    "\n",
    "new_datetimes = []\n",
    "for i in range(len(new_timestamps)):\n",
    "    new_datetimes.append(datetime.fromtimestamp(new_timestamps[i]))\n",
    "\n",
    "print('\\n',new_datetimes)\n",
    "\n",
    "new_str = []\n",
    "\n",
    "for i in range(len(new_datetimes)):\n",
    "    new_str.append(new_datetimes[i].strftime('%d/%m/%y %H:%M'))\n",
    "\n",
    "print('\\n',new_str)"
   ]
  }
 ],
 "metadata": {
  "kernelspec": {
   "display_name": "Python 3",
   "language": "python",
   "name": "python3"
  },
  "language_info": {
   "codemirror_mode": {
    "name": "ipython",
    "version": 3
   },
   "file_extension": ".py",
   "mimetype": "text/x-python",
   "name": "python",
   "nbconvert_exporter": "python",
   "pygments_lexer": "ipython3",
   "version": "3.7.5"
  }
 },
 "nbformat": 4,
 "nbformat_minor": 2
}
