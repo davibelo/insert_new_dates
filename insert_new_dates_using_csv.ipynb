{
 "cells": [
  {
   "cell_type": "code",
   "execution_count": 1,
   "metadata": {},
   "outputs": [],
   "source": [
    "# function to insert dates in a date list\n",
    "from datetime import *\n",
    "\n",
    "def insert_new_dates(datelist, interval, num_inserts):\n",
    "    \"\"\" Function to insert new dates before each given date\n",
    "        on a list of dates\n",
    "\n",
    "        datelist = list with dates in format dd/m/yy %hh:mm   \n",
    "\n",
    "        interval = period in seconds between new inserted dates\n",
    "        \n",
    "        num_inserts = number of new dates to insert \"\"\"\n",
    "    \n",
    "    # converting to datetimes\n",
    "    datetimes = []\n",
    "    for i in range(len(datelist)):\n",
    "        datetimes.append(datetime.strptime(datelist[i], '%d/%m/%y %H:%M'))\n",
    "\n",
    "    # converting to timestamps\n",
    "    timestamps = []\n",
    "    for i in range(len(datetimes)):\n",
    "        timestamps.append(datetime.timestamp(datetimes[i]))\n",
    "    \n",
    "    new_timestamps = []\n",
    "    for i in range(len(timestamps)):\n",
    "        for n in range(num_inserts+1):\n",
    "            new_timestamps.append(timestamps[i]-n*interval)\n",
    "\n",
    "    new_timestamps.sort()\n",
    "\n",
    "    new_datetimes = []\n",
    "    for i in range(len(new_timestamps)):\n",
    "        new_datetimes.append(datetime.fromtimestamp(new_timestamps[i]))\n",
    "\n",
    "    new_str_dates = []\n",
    "\n",
    "    for i in range(len(new_datetimes)):\n",
    "        new_str_dates.append(new_datetimes[i].strftime('%d/%m/%y %H:%M'))\n",
    "\n",
    "    return(new_str_dates)"
   ]
  },
  {
   "cell_type": "code",
   "execution_count": 2,
   "metadata": {
    "tags": [
     "outputPrepend"
    ]
   },
   "outputs": [],
   "source": [
    "# reading csv with date list in format dd/mm/yy hh:mm\n",
    "import pandas as pd\n",
    "\n",
    "ds = pd.Series(pd.read_csv('datas_lab.csv', squeeze=True))\n",
    "datelist = ds.values.tolist()\n",
    "#datelist"
   ]
  },
  {
   "cell_type": "code",
   "execution_count": 3,
   "metadata": {
    "tags": [
     "outputPrepend"
    ]
   },
   "outputs": [],
   "source": [
    "# using insert_new_dates function to generate a new date list\n",
    "interval = 10*60 # time in seconds to get new timestamps before original timestamp\n",
    "num_inserts = 13 # number of new timestamps to generate\n",
    "\n",
    "new_dates_list = insert_new_dates(datelist,interval,num_inserts)\n",
    "#new_dates_list"
   ]
  },
  {
   "cell_type": "code",
   "execution_count": 4,
   "metadata": {},
   "outputs": [
    {
     "output_type": "stream",
     "name": "stdout",
     "text": "sucess!\n"
    }
   ],
   "source": [
    "# writing csv file with results\n",
    "import csv\n",
    "\n",
    "def write_list_to_file(guest_list, csvfile):\n",
    "    \"\"\"Write the list to csv file\"\"\"\n",
    "\n",
    "    with open(csvfile, mode = \"w\") as csv_writer:\n",
    "        for item in guest_list:\n",
    "            csv_writer.write(item)\n",
    "            csv_writer.write(\"\\n\")\n",
    "    return print('sucess!')\n",
    "\n",
    "write_list_to_file(new_dates_list,'new_dates.csv')"
   ]
  }
 ],
 "metadata": {
  "kernelspec": {
   "display_name": "Python 3.7.5 64-bit ('py3-TF2.0': conda)",
   "language": "python",
   "name": "python37564bitpy3tf20conda700cddc0ab934b0492c45e66814b69ce"
  },
  "language_info": {
   "codemirror_mode": {
    "name": "ipython",
    "version": 3
   },
   "file_extension": ".py",
   "mimetype": "text/x-python",
   "name": "python",
   "nbconvert_exporter": "python",
   "pygments_lexer": "ipython3",
   "version": "3.7.5-final"
  }
 },
 "nbformat": 4,
 "nbformat_minor": 2
}